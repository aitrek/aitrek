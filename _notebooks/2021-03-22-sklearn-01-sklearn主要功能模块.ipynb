{
 "cells": [
  {
   "cell_type": "markdown",
   "id": "tribal-spider",
   "metadata": {},
   "source": [
    "# sklearn主要功能模块\n",
    "> 读sklearn源码学机器学习\n",
    "\n",
    "- toc: true \n",
    "- badges: true\n",
    "- comments: true\n",
    "- categories: [sklearn, machine_learning]\n",
    "- author: aitrek"
   ]
  },
  {
   "cell_type": "markdown",
   "id": "approximate-munich",
   "metadata": {},
   "source": [
    "# sklearn主要功能模块"
   ]
  },
  {
   "cell_type": "markdown",
   "id": "heavy-seventh",
   "metadata": {},
   "source": [
    "从sklearn.__init__.py中的__all__可以看到，sklearn对外暴露的接口有下面几个："
   ]
  },
  {
   "cell_type": "code",
   "execution_count": 18,
   "id": "industrial-stanley",
   "metadata": {},
   "outputs": [],
   "source": [
    "__all__ = ['calibration', 'cluster', 'covariance', 'cross_decomposition',\n",
    "           'datasets', 'decomposition', 'dummy', 'ensemble', 'exceptions',\n",
    "           'experimental', 'externals', 'feature_extraction',\n",
    "           'feature_selection', 'gaussian_process', 'inspection',\n",
    "           'isotonic', 'kernel_approximation', 'kernel_ridge',\n",
    "           'linear_model', 'manifold', 'metrics', 'mixture',\n",
    "           'model_selection', 'multiclass', 'multioutput',\n",
    "           'naive_bayes', 'neighbors', 'neural_network', 'pipeline',\n",
    "           'preprocessing', 'random_projection', 'semi_supervised',\n",
    "           'svm', 'tree', 'discriminant_analysis', 'impute', 'compose',\n",
    "           # Non-modules:\n",
    "           'clone', 'get_config', 'set_config', 'config_context',\n",
    "           'show_versions']"
   ]
  },
  {
   "cell_type": "markdown",
   "id": "indoor-darwin",
   "metadata": {},
   "source": [
    "# 对各模块简要说明"
   ]
  },
  {
   "cell_type": "markdown",
   "id": "younger-riding",
   "metadata": {},
   "source": [
    "**模型相关模块 - 机器学习各种算法模型、函数：**  \n",
    "* **calibration**  \n",
    "分类模型预测概率校准模块，对于某些比较强调预测概率准确性的模型，使用该模块对模型的预测概率进行校准。\n",
    "* **cluster**  \n",
    "用于非监督聚类的模块，包含聚类相关的各种算法模型、函数。\n",
    "* **covariance**  \n",
    "协方差评估模块\n",
    "* **cross_decomposition**  \n",
    "交叉分解模块\n",
    "* **datasets**  \n",
    "数据集模块，除了一些著名的真实数据集的函数外，还包含一些人造数据集函数。\n",
    "* **decomposition**  \n",
    "矩阵分解模块，主要用于数据降维。\n",
    "* **dummy**  \n",
    "虚拟模型模块，快速创建虚拟分类或回归模型，用来作基准模型等。\n",
    "* **ensemble**  \n",
    "集成学习模块，包含各种基于集成学习的分类、回归和异常检查模型。\n",
    "* **experimental**  \n",
    "试验性控制模块，用于控制实验性接口的行为。\n",
    "* **feature_extraction**  \n",
    "特征提取模块，提供了常用的文本和图片特征提取工具。\n",
    "* **feature_selection**  \n",
    "特征选择模块，提供了各种特征过滤、特征消除方法。\n",
    "* **gaussian_process**  \n",
    "高斯过程模块，实现了高斯过程回归和高斯过程分类。\n",
    "* **inspection**  \n",
    "查看模型模块\n",
    "* **isotonic**  \n",
    "保序回归模块\n",
    "* **kernel_approximation**  \n",
    "核逼近模块\n",
    "* **kernel_ridge**  \n",
    "核岭回归模块\n",
    "* **linear_model**  \n",
    "线性模型模块，包含了大量的线性模型。\n",
    "* **manifold**  \n",
    "流形学习模块\n",
    "* **metrics**  \n",
    "模型评估模块\n",
    "* **mixture**  \n",
    "混合模型模块，包括高斯混合模型和贝叶斯高斯混合模型。\n",
    "* **model_selection**  \n",
    "模型选择模块\n",
    "* **multiclass**  \n",
    "多分类模块\n",
    "* **multioutput**  \n",
    "多输出模块\n",
    "* **naive_bayes**  \n",
    "朴素贝叶斯算法模块，实现了伯努利贝叶斯、高斯贝叶斯、多项式贝叶斯、补充朴素贝叶斯、类别贝叶斯。\n",
    "* **neighbors**  \n",
    "k近邻算法模块，包含各种常见的k近邻分类、回归模型。\n",
    "* **neural_network**  \n",
    "神经网络模块，实现了伯努利受限玻尔兹曼机、多层感知机分类模型和多层感知机回归模型。\n",
    "* **pipeline**  \n",
    "管道模块，用来创建机器学习管道。\n",
    "* **preprocessing**  \n",
    "数据预处理模块，包含各种数据缩放、中心化、标准化、二值化方法。\n",
    "* **random_projection**  \n",
    "随机映射模块\n",
    "* **semi_supervised**  \n",
    "半监督学习模块\n",
    "* **svm**  \n",
    "支持向量机模块\n",
    "* **tree**  \n",
    "基于树模型的模块\n",
    "* **discriminant_analysis**  \n",
    "判别分析模块\n",
    "* **impute**  \n",
    "缺失值处理模块\n",
    "* **compose**  \n",
    "用来构建复合转换器模型的模块  \n",
    "\n",
    "\n",
    "**sklearn框架工程实现相关：**\n",
    "* **exceptions**  \n",
    "sklearn中的告警、报错模块，框架工程辅助模块，非模型、算法相关。\n",
    "* **externals**  \n",
    "外部接口模块，提供与sklearn兼容的非sklearn模块。\n",
    "* **clone**  \n",
    "用来克隆带有相同模型参数但未经训练的评估器\n",
    "* **get_config**  \n",
    "获得环境配置的函数\n",
    "* **set_config**  \n",
    "设置环境配置的函数\n",
    "* **config_context**  \n",
    "用来配置sklearn全局环境的管理器\n",
    "* **show_versions**  \n",
    "用于展示sklearn框架系统信息以及依赖信息的函数  "
   ]
  },
  {
   "cell_type": "code",
   "execution_count": null,
   "id": "elder-polymer",
   "metadata": {},
   "outputs": [],
   "source": []
  }
 ],
 "metadata": {
  "kernelspec": {
   "display_name": "Python 3",
   "language": "python",
   "name": "python3"
  },
  "language_info": {
   "codemirror_mode": {
    "name": "ipython",
    "version": 3
   },
   "file_extension": ".py",
   "mimetype": "text/x-python",
   "name": "python",
   "nbconvert_exporter": "python",
   "pygments_lexer": "ipython3",
   "version": "3.8.5"
  }
 },
 "nbformat": 4,
 "nbformat_minor": 5
}
