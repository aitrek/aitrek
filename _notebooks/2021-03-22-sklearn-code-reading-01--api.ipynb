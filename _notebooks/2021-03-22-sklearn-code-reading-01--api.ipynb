{
 "cells": [
  {
   "cell_type": "markdown",
   "id": "located-republican",
   "metadata": {},
   "source": [
    "# sklearn源码阅读01: API\n",
    "> 读sklearn源码学机器学习\n",
    "\n",
    "- toc: true \n",
    "- badges: true\n",
    "- comments: true\n",
    "- categories: [sklearn, machine_learning, code reading]\n",
    "- author: aitrek"
   ]
  },
  {
   "cell_type": "markdown",
   "id": "loaded-authority",
   "metadata": {},
   "source": [
    "# sklearn主要API"
   ]
  },
  {
   "cell_type": "markdown",
   "id": "killing-reynolds",
   "metadata": {},
   "source": [
    "从sklearn.__init__.py中的__all__可以看到，sklearn对外暴露的接口有下面几个："
   ]
  },
  {
   "cell_type": "code",
   "execution_count": 1,
   "id": "prescription-access",
   "metadata": {},
   "outputs": [],
   "source": [
    "__all__ = ['calibration', 'cluster', 'covariance', 'cross_decomposition',\n",
    "           'datasets', 'decomposition', 'dummy', 'ensemble', 'exceptions',\n",
    "           'experimental', 'externals', 'feature_extraction',\n",
    "           'feature_selection', 'gaussian_process', 'inspection',\n",
    "           'isotonic', 'kernel_approximation', 'kernel_ridge',\n",
    "           'linear_model', 'manifold', 'metrics', 'mixture',\n",
    "           'model_selection', 'multiclass', 'multioutput',\n",
    "           'naive_bayes', 'neighbors', 'neural_network', 'pipeline',\n",
    "           'preprocessing', 'random_projection', 'semi_supervised',\n",
    "           'svm', 'tree', 'discriminant_analysis', 'impute', 'compose',\n",
    "           # Non-modules:\n",
    "           'clone', 'get_config', 'set_config', 'config_context',\n",
    "           'show_versions']"
   ]
  },
  {
   "cell_type": "markdown",
   "id": "fantastic-teens",
   "metadata": {},
   "source": [
    "# 各API简要说明"
   ]
  },
  {
   "cell_type": "markdown",
   "id": "healthy-vertical",
   "metadata": {},
   "source": [
    "* ***`sklearn.base`: estimator基类和基函数模块***  \n",
    "不属于sklearn对外暴露的接口，包括各种estimator的基类以及一些estimator相关函数。\n",
    "* **`sklearn.calibration`: 概率校准模块**  \n",
    "分类模型预测概率校准模块，对于某些比较强调预测概率准确性的模型，使用该模块对模型的预测概率进行校准。\n",
    "* **`sklearn.cluster`: 聚类模块**  \n",
    "用于非监督聚类的模块，包含聚类相关的各种算法模型、函数。\n",
    "* **`sklearn.compose`: 复合estimator模块**  \n",
    "使用transformer创建复合模型的meta-estimator。\n",
    "* **`sklearn.covariance`: 协方差estimator**  \n",
    "协方差评估模块\n",
    "* **`sklearn.cross_decomposition`: 交叉分解**  \n",
    "交叉分解模块\n",
    "* **`sklearn.datasets`: 数据集**  \n",
    "数据集模块，除了一些著名的真实数据集的函数外，还包含一些人造数据集函数。\n",
    "* **`sklearn.decomposition`: 矩阵分解**  \n",
    "矩阵分解模块，主要用于数据降维。\n",
    "* **`sklearn.dummy`: 虚拟estimator**  \n",
    "虚拟模型模块，快速创建虚拟分类或回归模型，用来作基准模型等。\n",
    "* **`sklearn.ensemble`: 集成模块**  \n",
    "集成学习模块，包含各种基于集成学习的分类、回归和异常检查模型。\n",
    "* **`sklearn.exceptions`: 异常和告警**  \n",
    "sklearn中的告警、报错模块，框架工程辅助模块，非模型、算法相关。\n",
    "* **`sklearn.experimental`: 试验控制模块**  \n",
    "试验控制模块，用于控制实验性接口的行为。\n",
    "* **`sklearn.feature_extraction`: 特征提取模块**  \n",
    "特征提取模块，提供了常用的文本和图片特征提取工具。\n",
    "* **`sklearn.feature_selection`: 特征选择模块**  \n",
    "特征选择模块，提供了各种特征过滤、特征消除方法。\n",
    "* **`sklearn.gaussian_process`: 高斯过程**  \n",
    "高斯过程模块，实现了高斯过程回归和高斯过程分类。\n",
    "* **`sklearn.inspection`: 查看**  \n",
    "查看模型模块\n",
    "* **`sklearn.isotonic`: 保序回归**  \n",
    "保序回归模块\n",
    "* **`sklearn.kernel_approximation`: 核逼近**  \n",
    "核逼近模块\n",
    "* **`sklearn.kernel_ridge`: 核岭回归**  \n",
    "核岭回归模块\n",
    "* **`sklearn.linear_model`: 线性模型**  \n",
    "线性模型模块，包含了大量的线性模型。\n",
    "* **`sklearn.manifold`: 流刑学习**  \n",
    "流形学习模块\n",
    "* **`sklearn.metrics`: 指标**  \n",
    "模型评估模块\n",
    "* **`sklearn.mixture`: 高斯混合模型**  \n",
    "混合模型模块，包括高斯混合模型和贝叶斯高斯混合模型。\n",
    "* **`sklearn.model_selection`: 模型选择**  \n",
    "模型选择模块\n",
    "* **`sklearn.multiclass`: 多分类**  \n",
    "多分类模块\n",
    "* **`sklearn.multioutput`: 多输出回归和分类**  \n",
    "多输出模块\n",
    "* **`sklearn.naive_bayes`: 朴素贝叶斯**  \n",
    "朴素贝叶斯算法模块，实现了伯努利贝叶斯、高斯贝叶斯、多项式贝叶斯、补充朴素贝叶斯、类别贝叶斯。\n",
    "* **`sklearn.neighbors`: 近邻模型**  \n",
    "k近邻算法模块，包含各种常见的k近邻分类、回归模型。\n",
    "* **`sklearn.neural_network`: 神经网络模型**  \n",
    "神经网络模块，实现了伯努利受限玻尔兹曼机、多层感知机分类模型和多层感知机回归模型。\n",
    "* **`sklearn.pipeline`: 通道**  \n",
    "管道模块，用来创建机器学习管道。\n",
    "* **`sklearn.preprocessing`: 预处理和标准化**  \n",
    "数据预处理模块，包含各种数据缩放、中心化、标准化、二值化方法。\n",
    "* **`sklearn.random_projection`: 随机过程**  \n",
    "随机映射模块\n",
    "* **`sklearn.semi_supervised`: 半监督学习**  \n",
    "半监督学习模块\n",
    "* **`sklearn.svm`: 支持向量机**  \n",
    "支持向量机模块\n",
    "* **`sklearn.tree`: 决策树**  \n",
    "基于树模型的模块\n",
    "* **`sklearn.utils`: 实用工具**  \n",
    "各种实用工具\n",
    "* **`sklearn.discriminant_analysis`: 判别分析**  \n",
    "判别分析模块\n",
    "* **`sklearn.impute`: 缺失值**  \n",
    "缺失值处理模块\n",
    "* **`sklearn.externals`: 外部模块**  \n",
    "外部接口模块，提供与sklearn兼容的非sklearn模块。\n",
    "* **clone**  \n",
    "用来克隆带有相同模型参数但未经训练的评估器\n",
    "* **get_config**  \n",
    "获得环境配置的函数\n",
    "* **set_config**  \n",
    "设置环境配置的函数\n",
    "* **config_context**  \n",
    "用来配置sklearn全局环境的管理器\n",
    "* **show_versions**  \n",
    "用于展示sklearn框架系统信息以及依赖信息的函数  "
   ]
  },
  {
   "cell_type": "markdown",
   "id": "elect-missouri",
   "metadata": {},
   "source": [
    "## Reference:"
   ]
  },
  {
   "cell_type": "markdown",
   "id": "weird-circle",
   "metadata": {},
   "source": [
    "1.sklearn API Reference  \n",
    "https://scikit-learn.org/stable/modules/classes.html#module-sklearn.compose"
   ]
  }
 ],
 "metadata": {
  "kernelspec": {
   "display_name": "Python 3",
   "language": "python",
   "name": "python3"
  },
  "language_info": {
   "codemirror_mode": {
    "name": "ipython",
    "version": 3
   },
   "file_extension": ".py",
   "mimetype": "text/x-python",
   "name": "python",
   "nbconvert_exporter": "python",
   "pygments_lexer": "ipython3",
   "version": "3.8.8"
  }
 },
 "nbformat": 4,
 "nbformat_minor": 5
}
