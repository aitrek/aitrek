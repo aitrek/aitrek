{
 "cells": [
  {
   "cell_type": "markdown",
   "id": "brazilian-voice",
   "metadata": {},
   "source": [
    "# try\n",
    "> Have a try to create pages using nb.\n",
    "\n",
    "- toc: true \n",
    "- badges: true\n",
    "- comments: true\n",
    "- categories: [jupyter]\n",
    "- image: images/chart-preview.png"
   ]
  },
  {
   "cell_type": "markdown",
   "id": "cathedral-occupation",
   "metadata": {},
   "source": [
    "# try 0\n",
    "this is try 0"
   ]
  },
  {
   "cell_type": "markdown",
   "id": "engaged-european",
   "metadata": {},
   "source": [
    "# try 1\n",
    "this is try1"
   ]
  }
 ],
 "metadata": {
  "kernelspec": {
   "display_name": "Python 3",
   "language": "python",
   "name": "python3"
  },
  "language_info": {
   "codemirror_mode": {
    "name": "ipython",
    "version": 3
   },
   "file_extension": ".py",
   "mimetype": "text/x-python",
   "name": "python",
   "nbconvert_exporter": "python",
   "pygments_lexer": "ipython3",
   "version": "3.8.8"
  }
 },
 "nbformat": 4,
 "nbformat_minor": 5
}
